{
 "cells": [
  {
   "cell_type": "code",
   "execution_count": null,
   "id": "56aff56e",
   "metadata": {},
   "outputs": [
    {
     "name": "stdout",
     "output_type": "stream",
     "text": [
      "[5, 6, 7]\n",
      "[1, 2, 3, 1, 2, 3, 4]\n",
      "[5, 6, 7, 1, 2, 3, 4]\n"
     ]
    }
   ],
   "source": [
    "# brute foce apprach \n",
    "def right_roatate(nums,k):\n",
    "    n = len(nums)\n",
    "    temp = []\n",
    "    # Step 1 : Store  k elements to temp array\n",
    "    for i in range(n-k, n):\n",
    "        temp.append(nums[i])\n",
    "    print(temp)\n",
    "\n",
    "    # Step 2 : After k elements shift the  n - k array  to right \n",
    "    for i in range(n-k-1, -1, -1):\n",
    "        nums[i + k] = nums[i]\n",
    "    print(nums)\n",
    "\n",
    "    # Step 3 : Move back the temp array elements to the starting point of array\n",
    "    for i in range(k):\n",
    "        nums[i] = temp[i]\n",
    "    print(nums)\n",
    "nums = [1,2,3,4,5,6,7]\n",
    "k = 3\n",
    "\n",
    "right_roatate(nums,k)"
   ]
  },
  {
   "cell_type": "code",
   "execution_count": null,
   "id": "61db8a0d",
   "metadata": {},
   "outputs": [
    {
     "name": "stdout",
     "output_type": "stream",
     "text": [
      "[5, 6, 7, 1, 2, 3, 4]\n"
     ]
    }
   ],
   "source": [
    "# optimal approach (space optimized)\n",
    "def reverse(nums, p1, p2):\n",
    "    while p1 < p2:\n",
    "        nums[p1], nums[p2] = nums[p2], nums[p1]\n",
    "        p1 += 1\n",
    "        p2 -= 1\n",
    "\n",
    "def right_rotate(nums, k):\n",
    "    n = len(nums)\n",
    "    k = k % n   # normalize k\n",
    "    \n",
    "    # Step 1: Reverse last k elements\n",
    "    reverse(nums, n-k, n-1)\n",
    "    \n",
    "    # Step 2: Reverse first n-k elements\n",
    "    reverse(nums, 0, n-k-1)\n",
    "    \n",
    "    # Step 3: Reverse entire array\n",
    "    reverse(nums, 0, n-1)\n",
    "\n",
    "    print(nums)\n",
    "# Example\n",
    "nums = [1,2,3,4,5,6,7]\n",
    "right_rotate(nums, 10)"
   ]
  }
 ],
 "metadata": {
  "kernelspec": {
   "display_name": "base",
   "language": "python",
   "name": "python3"
  },
  "language_info": {
   "codemirror_mode": {
    "name": "ipython",
    "version": 3
   },
   "file_extension": ".py",
   "mimetype": "text/x-python",
   "name": "python",
   "nbconvert_exporter": "python",
   "pygments_lexer": "ipython3",
   "version": "3.12.7"
  }
 },
 "nbformat": 4,
 "nbformat_minor": 5
}
