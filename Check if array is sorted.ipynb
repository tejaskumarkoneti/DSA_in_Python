{
 "cells": [
  {
   "cell_type": "code",
   "execution_count": null,
   "id": "78cc3796-c80b-436e-9428-dc40cd52f98b",
   "metadata": {},
   "outputs": [
    {
     "name": "stdout",
     "output_type": "stream",
     "text": [
      "True\n"
     ]
    }
   ],
   "source": [
    "def sorted(arr,n):\n",
    "    for i in range(n):\n",
    "        for j in range(i+1,n):\n",
    "            if arr[i] > arr[j]:\n",
    "                return False\n",
    "    return True\n",
    "arr = [1,2,3,4,5]\n",
    "n = len(arr)\n",
    "\n",
    "print(sorted(arr,n))\n",
    "            "
   ]
  },
  {
   "cell_type": "code",
   "execution_count": 1,
   "id": "11c876a3-0153-4fcb-b509-b3e2f2d0c566",
   "metadata": {},
   "outputs": [
    {
     "name": "stdout",
     "output_type": "stream",
     "text": [
      "False\n"
     ]
    }
   ],
   "source": [
    "def sorted(arr,n):\n",
    "    for i in range(n):\n",
    "        for j in range(i+1,n):\n",
    "            if arr[j] < arr[i]:\n",
    "                return False\n",
    "    return True\n",
    "\n",
    "arr = [1,2,0,3,4,5]\n",
    "n = len(arr)\n",
    "print(sorted(arr,n))\n",
    "            "
   ]
  },
  {
   "cell_type": "code",
   "execution_count": 3,
   "id": "b02939e6-25e9-4b2b-8890-42973a25d595",
   "metadata": {},
   "outputs": [
    {
     "name": "stdout",
     "output_type": "stream",
     "text": [
      "True\n"
     ]
    }
   ],
   "source": [
    "def sorted(arr,n):\n",
    "    for i in range(n-1):\n",
    "        if arr[i] > arr[i+1]:\n",
    "                return False\n",
    "    return True\n",
    "\n",
    "arr = [1,2,3,4,5]\n",
    "n = len(arr)\n",
    "print(sorted(arr,n))   "
   ]
  },
  {
   "cell_type": "code",
   "execution_count": 4,
   "id": "4f92325e-e0f5-45d9-a8a3-58f29735dc20",
   "metadata": {},
   "outputs": [
    {
     "name": "stdout",
     "output_type": "stream",
     "text": [
      "condition is true\n",
      "False\n"
     ]
    }
   ],
   "source": [
    "def sorted(arr,n):\n",
    "    for i in range(1,n):\n",
    "        if arr[i] < arr[i-1]:\n",
    "            print(\"condition is true\")\n",
    "            return False\n",
    "    return True\n",
    "\n",
    "arr = [1,2,0,3,4,5]\n",
    "n = len(arr)\n",
    "print(sorted(arr,n))"
   ]
  }
 ],
 "metadata": {
  "kernelspec": {
   "display_name": "Python 3",
   "language": "python",
   "name": "python3"
  },
  "language_info": {
   "codemirror_mode": {
    "name": "ipython",
    "version": 3
   },
   "file_extension": ".py",
   "mimetype": "text/x-python",
   "name": "python",
   "nbconvert_exporter": "python",
   "pygments_lexer": "ipython3",
   "version": "3.12.7"
  }
 },
 "nbformat": 4,
 "nbformat_minor": 5
}
